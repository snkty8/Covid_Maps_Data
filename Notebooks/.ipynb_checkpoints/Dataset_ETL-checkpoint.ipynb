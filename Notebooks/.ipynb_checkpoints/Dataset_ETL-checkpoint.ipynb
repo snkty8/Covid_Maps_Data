{
 "cells": [
  {
   "cell_type": "code",
   "execution_count": 2,
   "metadata": {},
   "outputs": [],
   "source": [
    "import pandas as pd\n",
    "import numpy as np"
   ]
  },
  {
   "cell_type": "code",
   "execution_count": 3,
   "metadata": {},
   "outputs": [
    {
     "data": {
      "text/html": [
       "<div>\n",
       "<style scoped>\n",
       "    .dataframe tbody tr th:only-of-type {\n",
       "        vertical-align: middle;\n",
       "    }\n",
       "\n",
       "    .dataframe tbody tr th {\n",
       "        vertical-align: top;\n",
       "    }\n",
       "\n",
       "    .dataframe thead th {\n",
       "        text-align: right;\n",
       "    }\n",
       "</style>\n",
       "<table border=\"1\" class=\"dataframe\">\n",
       "  <thead>\n",
       "    <tr style=\"text-align: right;\">\n",
       "      <th></th>\n",
       "      <th>Date</th>\n",
       "      <th>Country/Region</th>\n",
       "      <th>Province/State</th>\n",
       "      <th>Confirmed</th>\n",
       "      <th>Recovered</th>\n",
       "      <th>Deaths</th>\n",
       "    </tr>\n",
       "  </thead>\n",
       "  <tbody>\n",
       "    <tr>\n",
       "      <th>0</th>\n",
       "      <td>2020-01-22</td>\n",
       "      <td>Afghanistan</td>\n",
       "      <td>NaN</td>\n",
       "      <td>0</td>\n",
       "      <td>0.0</td>\n",
       "      <td>0</td>\n",
       "    </tr>\n",
       "    <tr>\n",
       "      <th>1</th>\n",
       "      <td>2020-01-23</td>\n",
       "      <td>Afghanistan</td>\n",
       "      <td>NaN</td>\n",
       "      <td>0</td>\n",
       "      <td>0.0</td>\n",
       "      <td>0</td>\n",
       "    </tr>\n",
       "    <tr>\n",
       "      <th>2</th>\n",
       "      <td>2020-01-24</td>\n",
       "      <td>Afghanistan</td>\n",
       "      <td>NaN</td>\n",
       "      <td>0</td>\n",
       "      <td>0.0</td>\n",
       "      <td>0</td>\n",
       "    </tr>\n",
       "    <tr>\n",
       "      <th>3</th>\n",
       "      <td>2020-01-25</td>\n",
       "      <td>Afghanistan</td>\n",
       "      <td>NaN</td>\n",
       "      <td>0</td>\n",
       "      <td>0.0</td>\n",
       "      <td>0</td>\n",
       "    </tr>\n",
       "    <tr>\n",
       "      <th>4</th>\n",
       "      <td>2020-01-26</td>\n",
       "      <td>Afghanistan</td>\n",
       "      <td>NaN</td>\n",
       "      <td>0</td>\n",
       "      <td>0.0</td>\n",
       "      <td>0</td>\n",
       "    </tr>\n",
       "  </tbody>\n",
       "</table>\n",
       "</div>"
      ],
      "text/plain": [
       "         Date Country/Region Province/State  Confirmed  Recovered  Deaths\n",
       "0  2020-01-22    Afghanistan            NaN          0        0.0       0\n",
       "1  2020-01-23    Afghanistan            NaN          0        0.0       0\n",
       "2  2020-01-24    Afghanistan            NaN          0        0.0       0\n",
       "3  2020-01-25    Afghanistan            NaN          0        0.0       0\n",
       "4  2020-01-26    Afghanistan            NaN          0        0.0       0"
      ]
     },
     "execution_count": 3,
     "metadata": {},
     "output_type": "execute_result"
    }
   ],
   "source": [
    "df = pd.read_csv(\"../Resources/time-series-19-covid-combined_csv.csv\")\n",
    "df.head()"
   ]
  },
  {
   "cell_type": "code",
   "execution_count": 4,
   "metadata": {},
   "outputs": [
    {
     "data": {
      "text/html": [
       "<div>\n",
       "<style scoped>\n",
       "    .dataframe tbody tr th:only-of-type {\n",
       "        vertical-align: middle;\n",
       "    }\n",
       "\n",
       "    .dataframe tbody tr th {\n",
       "        vertical-align: top;\n",
       "    }\n",
       "\n",
       "    .dataframe thead th {\n",
       "        text-align: right;\n",
       "    }\n",
       "</style>\n",
       "<table border=\"1\" class=\"dataframe\">\n",
       "  <thead>\n",
       "    <tr style=\"text-align: right;\">\n",
       "      <th></th>\n",
       "      <th>Province/State</th>\n",
       "      <th>Country/Region</th>\n",
       "      <th>Lat</th>\n",
       "      <th>Long</th>\n",
       "      <th>1/22/20</th>\n",
       "      <th>1/23/20</th>\n",
       "      <th>1/24/20</th>\n",
       "      <th>1/25/20</th>\n",
       "      <th>1/26/20</th>\n",
       "      <th>1/27/20</th>\n",
       "      <th>...</th>\n",
       "      <th>10/30/21</th>\n",
       "      <th>10/31/21</th>\n",
       "      <th>11/1/21</th>\n",
       "      <th>11/2/21</th>\n",
       "      <th>11/3/21</th>\n",
       "      <th>11/4/21</th>\n",
       "      <th>11/5/21</th>\n",
       "      <th>11/6/21</th>\n",
       "      <th>11/7/21</th>\n",
       "      <th>11/8/21</th>\n",
       "    </tr>\n",
       "  </thead>\n",
       "  <tbody>\n",
       "    <tr>\n",
       "      <th>0</th>\n",
       "      <td>NaN</td>\n",
       "      <td>Afghanistan</td>\n",
       "      <td>33.93911</td>\n",
       "      <td>67.709953</td>\n",
       "      <td>0</td>\n",
       "      <td>0</td>\n",
       "      <td>0</td>\n",
       "      <td>0</td>\n",
       "      <td>0</td>\n",
       "      <td>0</td>\n",
       "      <td>...</td>\n",
       "      <td>156210</td>\n",
       "      <td>156250</td>\n",
       "      <td>156284</td>\n",
       "      <td>156307</td>\n",
       "      <td>156323</td>\n",
       "      <td>156363</td>\n",
       "      <td>156392</td>\n",
       "      <td>156397</td>\n",
       "      <td>156397</td>\n",
       "      <td>156397</td>\n",
       "    </tr>\n",
       "    <tr>\n",
       "      <th>1</th>\n",
       "      <td>NaN</td>\n",
       "      <td>Albania</td>\n",
       "      <td>41.15330</td>\n",
       "      <td>20.168300</td>\n",
       "      <td>0</td>\n",
       "      <td>0</td>\n",
       "      <td>0</td>\n",
       "      <td>0</td>\n",
       "      <td>0</td>\n",
       "      <td>0</td>\n",
       "      <td>...</td>\n",
       "      <td>184887</td>\n",
       "      <td>185300</td>\n",
       "      <td>185497</td>\n",
       "      <td>186222</td>\n",
       "      <td>186793</td>\n",
       "      <td>187363</td>\n",
       "      <td>187994</td>\n",
       "      <td>187994</td>\n",
       "      <td>189125</td>\n",
       "      <td>189355</td>\n",
       "    </tr>\n",
       "    <tr>\n",
       "      <th>2</th>\n",
       "      <td>NaN</td>\n",
       "      <td>Algeria</td>\n",
       "      <td>28.03390</td>\n",
       "      <td>1.659600</td>\n",
       "      <td>0</td>\n",
       "      <td>0</td>\n",
       "      <td>0</td>\n",
       "      <td>0</td>\n",
       "      <td>0</td>\n",
       "      <td>0</td>\n",
       "      <td>...</td>\n",
       "      <td>206358</td>\n",
       "      <td>206452</td>\n",
       "      <td>206566</td>\n",
       "      <td>206649</td>\n",
       "      <td>206754</td>\n",
       "      <td>206878</td>\n",
       "      <td>206995</td>\n",
       "      <td>207079</td>\n",
       "      <td>207156</td>\n",
       "      <td>207254</td>\n",
       "    </tr>\n",
       "    <tr>\n",
       "      <th>3</th>\n",
       "      <td>NaN</td>\n",
       "      <td>Andorra</td>\n",
       "      <td>42.50630</td>\n",
       "      <td>1.521800</td>\n",
       "      <td>0</td>\n",
       "      <td>0</td>\n",
       "      <td>0</td>\n",
       "      <td>0</td>\n",
       "      <td>0</td>\n",
       "      <td>0</td>\n",
       "      <td>...</td>\n",
       "      <td>15516</td>\n",
       "      <td>15516</td>\n",
       "      <td>15516</td>\n",
       "      <td>15516</td>\n",
       "      <td>15572</td>\n",
       "      <td>15618</td>\n",
       "      <td>15618</td>\n",
       "      <td>15618</td>\n",
       "      <td>15618</td>\n",
       "      <td>15705</td>\n",
       "    </tr>\n",
       "    <tr>\n",
       "      <th>4</th>\n",
       "      <td>NaN</td>\n",
       "      <td>Angola</td>\n",
       "      <td>-11.20270</td>\n",
       "      <td>17.873900</td>\n",
       "      <td>0</td>\n",
       "      <td>0</td>\n",
       "      <td>0</td>\n",
       "      <td>0</td>\n",
       "      <td>0</td>\n",
       "      <td>0</td>\n",
       "      <td>...</td>\n",
       "      <td>64374</td>\n",
       "      <td>64433</td>\n",
       "      <td>64458</td>\n",
       "      <td>64487</td>\n",
       "      <td>64533</td>\n",
       "      <td>64583</td>\n",
       "      <td>64612</td>\n",
       "      <td>64654</td>\n",
       "      <td>64674</td>\n",
       "      <td>64724</td>\n",
       "    </tr>\n",
       "  </tbody>\n",
       "</table>\n",
       "<p>5 rows × 661 columns</p>\n",
       "</div>"
      ],
      "text/plain": [
       "  Province/State Country/Region       Lat       Long  1/22/20  1/23/20  \\\n",
       "0            NaN    Afghanistan  33.93911  67.709953        0        0   \n",
       "1            NaN        Albania  41.15330  20.168300        0        0   \n",
       "2            NaN        Algeria  28.03390   1.659600        0        0   \n",
       "3            NaN        Andorra  42.50630   1.521800        0        0   \n",
       "4            NaN         Angola -11.20270  17.873900        0        0   \n",
       "\n",
       "   1/24/20  1/25/20  1/26/20  1/27/20  ...  10/30/21  10/31/21  11/1/21  \\\n",
       "0        0        0        0        0  ...    156210    156250   156284   \n",
       "1        0        0        0        0  ...    184887    185300   185497   \n",
       "2        0        0        0        0  ...    206358    206452   206566   \n",
       "3        0        0        0        0  ...     15516     15516    15516   \n",
       "4        0        0        0        0  ...     64374     64433    64458   \n",
       "\n",
       "   11/2/21  11/3/21  11/4/21  11/5/21  11/6/21  11/7/21  11/8/21  \n",
       "0   156307   156323   156363   156392   156397   156397   156397  \n",
       "1   186222   186793   187363   187994   187994   189125   189355  \n",
       "2   206649   206754   206878   206995   207079   207156   207254  \n",
       "3    15516    15572    15618    15618    15618    15618    15705  \n",
       "4    64487    64533    64583    64612    64654    64674    64724  \n",
       "\n",
       "[5 rows x 661 columns]"
      ]
     },
     "execution_count": 4,
     "metadata": {},
     "output_type": "execute_result"
    }
   ],
   "source": [
    "df2 = pd.read_csv(\"../Resources/time_series_covid19_confirmed_global.csv\")\n",
    "df2.head()"
   ]
  },
  {
   "cell_type": "code",
   "execution_count": 5,
   "metadata": {},
   "outputs": [
    {
     "data": {
      "text/html": [
       "<div>\n",
       "<style scoped>\n",
       "    .dataframe tbody tr th:only-of-type {\n",
       "        vertical-align: middle;\n",
       "    }\n",
       "\n",
       "    .dataframe tbody tr th {\n",
       "        vertical-align: top;\n",
       "    }\n",
       "\n",
       "    .dataframe thead th {\n",
       "        text-align: right;\n",
       "    }\n",
       "</style>\n",
       "<table border=\"1\" class=\"dataframe\">\n",
       "  <thead>\n",
       "    <tr style=\"text-align: right;\">\n",
       "      <th></th>\n",
       "      <th>Country/Region</th>\n",
       "      <th>Lat</th>\n",
       "      <th>Long</th>\n",
       "      <th>1/22/20</th>\n",
       "      <th>1/23/20</th>\n",
       "      <th>1/24/20</th>\n",
       "      <th>1/25/20</th>\n",
       "      <th>1/26/20</th>\n",
       "      <th>1/27/20</th>\n",
       "      <th>1/28/20</th>\n",
       "      <th>...</th>\n",
       "      <th>10/30/21</th>\n",
       "      <th>10/31/21</th>\n",
       "      <th>11/1/21</th>\n",
       "      <th>11/2/21</th>\n",
       "      <th>11/3/21</th>\n",
       "      <th>11/4/21</th>\n",
       "      <th>11/5/21</th>\n",
       "      <th>11/6/21</th>\n",
       "      <th>11/7/21</th>\n",
       "      <th>11/8/21</th>\n",
       "    </tr>\n",
       "  </thead>\n",
       "  <tbody>\n",
       "    <tr>\n",
       "      <th>0</th>\n",
       "      <td>Afghanistan</td>\n",
       "      <td>33.93911</td>\n",
       "      <td>67.709953</td>\n",
       "      <td>0</td>\n",
       "      <td>0</td>\n",
       "      <td>0</td>\n",
       "      <td>0</td>\n",
       "      <td>0</td>\n",
       "      <td>0</td>\n",
       "      <td>0</td>\n",
       "      <td>...</td>\n",
       "      <td>156210</td>\n",
       "      <td>156250</td>\n",
       "      <td>156284</td>\n",
       "      <td>156307</td>\n",
       "      <td>156323</td>\n",
       "      <td>156363</td>\n",
       "      <td>156392</td>\n",
       "      <td>156397</td>\n",
       "      <td>156397</td>\n",
       "      <td>156397</td>\n",
       "    </tr>\n",
       "    <tr>\n",
       "      <th>1</th>\n",
       "      <td>Albania</td>\n",
       "      <td>41.15330</td>\n",
       "      <td>20.168300</td>\n",
       "      <td>0</td>\n",
       "      <td>0</td>\n",
       "      <td>0</td>\n",
       "      <td>0</td>\n",
       "      <td>0</td>\n",
       "      <td>0</td>\n",
       "      <td>0</td>\n",
       "      <td>...</td>\n",
       "      <td>184887</td>\n",
       "      <td>185300</td>\n",
       "      <td>185497</td>\n",
       "      <td>186222</td>\n",
       "      <td>186793</td>\n",
       "      <td>187363</td>\n",
       "      <td>187994</td>\n",
       "      <td>187994</td>\n",
       "      <td>189125</td>\n",
       "      <td>189355</td>\n",
       "    </tr>\n",
       "    <tr>\n",
       "      <th>2</th>\n",
       "      <td>Algeria</td>\n",
       "      <td>28.03390</td>\n",
       "      <td>1.659600</td>\n",
       "      <td>0</td>\n",
       "      <td>0</td>\n",
       "      <td>0</td>\n",
       "      <td>0</td>\n",
       "      <td>0</td>\n",
       "      <td>0</td>\n",
       "      <td>0</td>\n",
       "      <td>...</td>\n",
       "      <td>206358</td>\n",
       "      <td>206452</td>\n",
       "      <td>206566</td>\n",
       "      <td>206649</td>\n",
       "      <td>206754</td>\n",
       "      <td>206878</td>\n",
       "      <td>206995</td>\n",
       "      <td>207079</td>\n",
       "      <td>207156</td>\n",
       "      <td>207254</td>\n",
       "    </tr>\n",
       "    <tr>\n",
       "      <th>3</th>\n",
       "      <td>Andorra</td>\n",
       "      <td>42.50630</td>\n",
       "      <td>1.521800</td>\n",
       "      <td>0</td>\n",
       "      <td>0</td>\n",
       "      <td>0</td>\n",
       "      <td>0</td>\n",
       "      <td>0</td>\n",
       "      <td>0</td>\n",
       "      <td>0</td>\n",
       "      <td>...</td>\n",
       "      <td>15516</td>\n",
       "      <td>15516</td>\n",
       "      <td>15516</td>\n",
       "      <td>15516</td>\n",
       "      <td>15572</td>\n",
       "      <td>15618</td>\n",
       "      <td>15618</td>\n",
       "      <td>15618</td>\n",
       "      <td>15618</td>\n",
       "      <td>15705</td>\n",
       "    </tr>\n",
       "    <tr>\n",
       "      <th>4</th>\n",
       "      <td>Angola</td>\n",
       "      <td>-11.20270</td>\n",
       "      <td>17.873900</td>\n",
       "      <td>0</td>\n",
       "      <td>0</td>\n",
       "      <td>0</td>\n",
       "      <td>0</td>\n",
       "      <td>0</td>\n",
       "      <td>0</td>\n",
       "      <td>0</td>\n",
       "      <td>...</td>\n",
       "      <td>64374</td>\n",
       "      <td>64433</td>\n",
       "      <td>64458</td>\n",
       "      <td>64487</td>\n",
       "      <td>64533</td>\n",
       "      <td>64583</td>\n",
       "      <td>64612</td>\n",
       "      <td>64654</td>\n",
       "      <td>64674</td>\n",
       "      <td>64724</td>\n",
       "    </tr>\n",
       "  </tbody>\n",
       "</table>\n",
       "<p>5 rows × 660 columns</p>\n",
       "</div>"
      ],
      "text/plain": [
       "  Country/Region       Lat       Long  1/22/20  1/23/20  1/24/20  1/25/20  \\\n",
       "0    Afghanistan  33.93911  67.709953        0        0        0        0   \n",
       "1        Albania  41.15330  20.168300        0        0        0        0   \n",
       "2        Algeria  28.03390   1.659600        0        0        0        0   \n",
       "3        Andorra  42.50630   1.521800        0        0        0        0   \n",
       "4         Angola -11.20270  17.873900        0        0        0        0   \n",
       "\n",
       "   1/26/20  1/27/20  1/28/20  ...  10/30/21  10/31/21  11/1/21  11/2/21  \\\n",
       "0        0        0        0  ...    156210    156250   156284   156307   \n",
       "1        0        0        0  ...    184887    185300   185497   186222   \n",
       "2        0        0        0  ...    206358    206452   206566   206649   \n",
       "3        0        0        0  ...     15516     15516    15516    15516   \n",
       "4        0        0        0  ...     64374     64433    64458    64487   \n",
       "\n",
       "   11/3/21  11/4/21  11/5/21  11/6/21  11/7/21  11/8/21  \n",
       "0   156323   156363   156392   156397   156397   156397  \n",
       "1   186793   187363   187994   187994   189125   189355  \n",
       "2   206754   206878   206995   207079   207156   207254  \n",
       "3    15572    15618    15618    15618    15618    15705  \n",
       "4    64533    64583    64612    64654    64674    64724  \n",
       "\n",
       "[5 rows x 660 columns]"
      ]
     },
     "execution_count": 5,
     "metadata": {},
     "output_type": "execute_result"
    }
   ],
   "source": [
    "del df2['Province/State']\n",
    "df2.head()"
   ]
  },
  {
   "cell_type": "code",
   "execution_count": 18,
   "metadata": {},
   "outputs": [
    {
     "data": {
      "text/plain": [
       "0       0\n",
       "1       0\n",
       "2       0\n",
       "3       0\n",
       "4       0\n",
       "       ..\n",
       "275    20\n",
       "276     0\n",
       "277     0\n",
       "278     0\n",
       "279     0\n",
       "Length: 280, dtype: int64"
      ]
     },
     "execution_count": 18,
     "metadata": {},
     "output_type": "execute_result"
    }
   ],
   "source": [
    "Jan_2020 = df2['1/22/20']+df2['1/23/20']+df2['1/24/20']+df2['1/24/20']+df2['1/25/20']+df2['1/26/20']+df2['1/27/20']+df2['1/28/20']+df2['1/29/20']+df2['1/30/20']+df2['1/31/20']\n",
    "Jan_2020"
   ]
  },
  {
   "cell_type": "code",
   "execution_count": 23,
   "metadata": {},
   "outputs": [
    {
     "data": {
      "text/plain": [
       "0       25\n",
       "1        0\n",
       "2        4\n",
       "3        0\n",
       "4        0\n",
       "      ... \n",
       "275    382\n",
       "276      0\n",
       "277      0\n",
       "278      0\n",
       "279      0\n",
       "Length: 280, dtype: int64"
      ]
     },
     "execution_count": 23,
     "metadata": {},
     "output_type": "execute_result"
    }
   ],
   "source": [
    "Feb_2020 = df2['2/1/20']+df2['2/2/20']+df2['2/3/20']+df2['2/4/20']+df2['2/5/20']+df2['2/6/20']+df2['2/7/20']+df2['2/8/20']+df2['2/9/20']+df2['2/10/20']+df2['2/11/20']+df2['2/12/20']+df2['2/13/20']+df2['2/14/20']+df2['2/15/20']+df2['2/16/20']+df2['2/17/20']+df2['2/18/20']+df2['2/19/20']+df2['2/20/20']+df2['2/21/20']+df2['2/22/20']+df2['2/23/20']+df2['2/24/20']+df2['2/25/20']+df2['2/26/20']+df2['2/27/20']+df2['2/28/20']\n",
    "Feb_2020"
   ]
  },
  {
   "cell_type": "code",
   "execution_count": 46,
   "metadata": {},
   "outputs": [
    {
     "data": {
      "text/plain": [
       "0      1141\n",
       "1      2232\n",
       "2      4823\n",
       "3      2787\n",
       "4        48\n",
       "       ... \n",
       "275    2514\n",
       "276    1355\n",
       "277       0\n",
       "278     194\n",
       "279      53\n",
       "Length: 280, dtype: int64"
      ]
     },
     "execution_count": 46,
     "metadata": {},
     "output_type": "execute_result"
    }
   ],
   "source": [
    "March_2020 = df2.iloc[:, 42:73].sum(axis=1)\n",
    "March_2020"
   ]
  },
  {
   "cell_type": "code",
   "execution_count": 47,
   "metadata": {},
   "outputs": [
    {
     "data": {
      "text/plain": [
       "0      25152\n",
       "1      15632\n",
       "2      69497\n",
       "3      19106\n",
       "4        601\n",
       "       ...  \n",
       "275     7778\n",
       "276     8597\n",
       "277       31\n",
       "278     1754\n",
       "279      618\n",
       "Length: 280, dtype: int64"
      ]
     },
     "execution_count": 47,
     "metadata": {},
     "output_type": "execute_result"
    }
   ],
   "source": [
    "April_2020 = df2.iloc[:, 73:103].sum(axis=1)\n",
    "April_2020"
   ]
  },
  {
   "cell_type": "code",
   "execution_count": 48,
   "metadata": {},
   "outputs": [
    {
     "data": {
      "text/plain": [
       "0      222720\n",
       "1       28873\n",
       "2      211394\n",
       "3       23498\n",
       "4        1639\n",
       "        ...  \n",
       "275      9465\n",
       "276     12240\n",
       "277      4101\n",
       "278     18622\n",
       "279      1871\n",
       "Length: 280, dtype: int64"
      ]
     },
     "execution_count": 48,
     "metadata": {},
     "output_type": "execute_result"
    }
   ],
   "source": [
    "May_2020 = df2.iloc[:, 103: 134].sum(axis=1)\n",
    "May_2020"
   ]
  },
  {
   "cell_type": "code",
   "execution_count": 49,
   "metadata": {},
   "outputs": [
    {
     "data": {
      "text/plain": [
       "0      751685\n",
       "1       50880\n",
       "2      337819\n",
       "3       25511\n",
       "4        4660\n",
       "        ...  \n",
       "275     10196\n",
       "276     25938\n",
       "277     23264\n",
       "278     40038\n",
       "279     12096\n",
       "Length: 280, dtype: int64"
      ]
     },
     "execution_count": 49,
     "metadata": {},
     "output_type": "execute_result"
    }
   ],
   "source": [
    "June_2020 = df2.iloc[:, 134: 164].sum(axis=1)\n",
    "June_2020"
   ]
  },
  {
   "cell_type": "code",
   "execution_count": 50,
   "metadata": {},
   "outputs": [
    {
     "data": {
      "text/plain": [
       "0      1079412\n",
       "1       119660\n",
       "2       674286\n",
       "3        27174\n",
       "4        20049\n",
       "        ...   \n",
       "275      12278\n",
       "276     230938\n",
       "277      46644\n",
       "278      90582\n",
       "279      48113\n",
       "Length: 280, dtype: int64"
      ]
     },
     "execution_count": 50,
     "metadata": {},
     "output_type": "execute_result"
    }
   ],
   "source": [
    "July_2020 = df2.iloc[:, 164: 195].sum(axis=1)\n",
    "July_2020"
   ]
  },
  {
   "cell_type": "code",
   "execution_count": 51,
   "metadata": {},
   "outputs": [
    {
     "data": {
      "text/plain": [
       "0      1165099\n",
       "1       230278\n",
       "2      1185076\n",
       "3        31382\n",
       "4        59160\n",
       "        ...   \n",
       "275      28091\n",
       "276     519581\n",
       "277      57598\n",
       "278     290970\n",
       "279     163293\n",
       "Length: 280, dtype: int64"
      ]
     },
     "execution_count": 51,
     "metadata": {},
     "output_type": "execute_result"
    }
   ],
   "source": [
    "Aug_2020 = df2.iloc[:, 195:226].sum(axis=1)\n",
    "Aug_2020"
   ]
  },
  {
   "cell_type": "code",
   "execution_count": 57,
   "metadata": {},
   "outputs": [
    {
     "data": {
      "text/plain": [
       "0      1205772\n",
       "1       363954\n",
       "2      1509980\n",
       "3        47325\n",
       "4       116583\n",
       "        ...   \n",
       "275      32992\n",
       "276    1005690\n",
       "277      62366\n",
       "278     425664\n",
       "279     231421\n",
       "Length: 280, dtype: int64"
      ]
     },
     "execution_count": 57,
     "metadata": {},
     "output_type": "execute_result"
    }
   ],
   "source": [
    "Sep_2020 = df2.iloc[:, 226:257].sum(axis=1)\n",
    "Sep_2020"
   ]
  },
  {
   "cell_type": "code",
   "execution_count": 61,
   "metadata": {},
   "outputs": [
    {
     "data": {
      "text/plain": [
       "0      1371254\n",
       "1       587713\n",
       "2      1859456\n",
       "3       117690\n",
       "4       267189\n",
       "        ...   \n",
       "275      38622\n",
       "276    1609368\n",
       "277      69843\n",
       "278     536193\n",
       "279     276516\n",
       "Length: 280, dtype: int64"
      ]
     },
     "execution_count": 61,
     "metadata": {},
     "output_type": "execute_result"
    }
   ],
   "source": [
    "Oct_2020 = df2.iloc[:, 256:290].sum(axis=1)\n",
    "Oct_2020"
   ]
  },
  {
   "cell_type": "code",
   "execution_count": 65,
   "metadata": {},
   "outputs": [
    {
     "data": {
      "text/plain": [
       "0      1444060\n",
       "1       985482\n",
       "2      2329547\n",
       "3       195443\n",
       "4       450348\n",
       "        ...   \n",
       "275      42183\n",
       "276    2254695\n",
       "277      68269\n",
       "278     567973\n",
       "279     299666\n",
       "Length: 280, dtype: int64"
      ]
     },
     "execution_count": 65,
     "metadata": {},
     "output_type": "execute_result"
    }
   ],
   "source": [
    "Nov_2020 = df2.iloc[:, 287:320].sum(axis=1)\n",
    "Nov_2020"
   ]
  },
  {
   "cell_type": "code",
   "execution_count": 68,
   "metadata": {},
   "outputs": [
    {
     "data": {
      "text/plain": [
       "0      1697359\n",
       "1      1717254\n",
       "2      3184634\n",
       "3       254590\n",
       "4       560836\n",
       "        ...   \n",
       "275      47991\n",
       "276    3980996\n",
       "277      70952\n",
       "278     643283\n",
       "279     410181\n",
       "Length: 280, dtype: int64"
      ]
     },
     "execution_count": 68,
     "metadata": {},
     "output_type": "execute_result"
    }
   ],
   "source": [
    "Dec_2020 = df2.iloc[:, 317: 351].sum(axis=1)\n",
    "Dec_2020"
   ]
  },
  {
   "cell_type": "code",
   "execution_count": null,
   "metadata": {},
   "outputs": [],
   "source": []
  }
 ],
 "metadata": {
  "kernelspec": {
   "display_name": "Python 3",
   "language": "python",
   "name": "python3"
  },
  "language_info": {
   "codemirror_mode": {
    "name": "ipython",
    "version": 3
   },
   "file_extension": ".py",
   "mimetype": "text/x-python",
   "name": "python",
   "nbconvert_exporter": "python",
   "pygments_lexer": "ipython3",
   "version": "3.7.9"
  }
 },
 "nbformat": 4,
 "nbformat_minor": 4
}
